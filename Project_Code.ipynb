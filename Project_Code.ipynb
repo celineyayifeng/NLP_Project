{
 "cells": [
  {
   "cell_type": "code",
   "execution_count": 3,
   "id": "6795797c",
   "metadata": {},
   "outputs": [],
   "source": [
    "import numpy as np\n",
    "import pandas as pd\n",
    "import requests\n",
    "import json\n",
    "import os\n",
    "import dotenv\n",
    "import sys\n",
    "sys.tracebacklimit = 0 # turn off the error tracebacks"
   ]
  },
  {
   "cell_type": "code",
   "execution_count": 22,
   "id": "6086a019",
   "metadata": {},
   "outputs": [],
   "source": [
    "path = os.getcwd()+'/1.env'"
   ]
  },
  {
   "cell_type": "code",
   "execution_count": 23,
   "id": "1acef261",
   "metadata": {},
   "outputs": [],
   "source": [
    "dotenv.load_dotenv(path)\n",
    "\n",
    "ID = os.getenv('ID')\n",
    "Secret = os.getenv('Secret')\n",
    "Token = os.getenv('Token')"
   ]
  },
  {
   "cell_type": "code",
   "execution_count": 26,
   "id": "4ffebdaf",
   "metadata": {},
   "outputs": [],
   "source": [
    "#my_dict={'q':'', 'access_token':Token}\n",
    "r = requests.get('https://api.genius.com/#top-songs')"
   ]
  },
  {
   "cell_type": "code",
   "execution_count": 1,
   "id": "4c387cd0",
   "metadata": {},
   "outputs": [],
   "source": [
    "import requests\n",
    "from lxml import html, etree\n",
    "import pandas as pd"
   ]
  },
  {
   "cell_type": "code",
   "execution_count": 2,
   "id": "d7aac5cc",
   "metadata": {},
   "outputs": [
    {
     "data": {
      "text/plain": [
       "<Response [200]>"
      ]
     },
     "execution_count": 2,
     "metadata": {},
     "output_type": "execute_result"
    }
   ],
   "source": [
    "url = 'https://genius.com'\n",
    "r = requests.get(url, headers={'user-agent': 'Yayi Feng (yf7qq@virginia.edu) for Data Science at University of Virginia'})\n",
    "r"
   ]
  },
  {
   "cell_type": "code",
   "execution_count": 3,
   "id": "3433c8f7",
   "metadata": {},
   "outputs": [],
   "source": [
    "tree= html.fromstring(r.content)"
   ]
  },
  {
   "cell_type": "code",
   "execution_count": null,
   "id": "eab42983",
   "metadata": {},
   "outputs": [],
   "source": [
    "/html/body/div/div/div[5]/div[2]/div/div[3]/a[1]"
   ]
  },
  {
   "cell_type": "code",
   "execution_count": 4,
   "id": "f7845cc6",
   "metadata": {},
   "outputs": [],
   "source": [
    "rap_songs = []\n",
    "\n",
    "for i in range (1,11):\n",
    "    song = tree.xpath('/html/body/div/div/div[5]/div[2]/div/div[3]/a[{}]/div[2]/h3/div[1]/text()'.format(i))\n",
    "    \n",
    "    rap_songs.append(song)"
   ]
  },
  {
   "cell_type": "code",
   "execution_count": 5,
   "id": "b452af6c",
   "metadata": {},
   "outputs": [
    {
     "data": {
      "text/plain": [
       "[['HENTAI'],\n",
       " ['\\u200b\\u200bshowdown'],\n",
       " ['Trójkąt Bermudzki'],\n",
       " ['\\u200bastral step'],\n",
       " ['Blick Blick'],\n",
       " ['5x20'],\n",
       " ['12'],\n",
       " ['What Happened To Virgil'],\n",
       " ['Starlight'],\n",
       " ['All Too Well (10 Minute Version) (Taylor’s Version) [Live Acoustic]']]"
      ]
     },
     "execution_count": 5,
     "metadata": {},
     "output_type": "execute_result"
    }
   ],
   "source": [
    "rap_songs"
   ]
  },
  {
   "cell_type": "code",
   "execution_count": 81,
   "id": "8b535cd3",
   "metadata": {},
   "outputs": [
    {
     "data": {
      "text/plain": [
       "'HENTAI, showdown, Trójkąt Bermudzki, astral step, Blick Blick, 5x20, 12, What Happened To Virgil, Starlight, All Too Well (10 Minute Version) (Taylor’s Version) Live Acoustic'"
      ]
     },
     "execution_count": 81,
     "metadata": {},
     "output_type": "execute_result"
    }
   ],
   "source": [
    "str(lyric_links).replace('[','').replace(']','').replace('\\'','').replace('\\\"','').replace('\\\\u200b','')"
   ]
  },
  {
   "cell_type": "code",
   "execution_count": null,
   "id": "29e30286",
   "metadata": {},
   "outputs": [],
   "source": [
    "//*[@id=\"top-songs\"]/div/div[3]/a[11]/div[2]/h3/div[1]"
   ]
  },
  {
   "cell_type": "code",
   "execution_count": 49,
   "id": "f8ca408f",
   "metadata": {},
   "outputs": [],
   "source": [
    "paths=[]\n",
    "\n",
    "for i in range(1,51):\n",
    "\n",
    "    path = tree.xpath('//*[@id=\"top-songs\"]/div/div[3]/a[11]/div[{}]'.format(i))\n",
    "    paths.append(path)"
   ]
  },
  {
   "cell_type": "code",
   "execution_count": null,
   "id": "76625c77",
   "metadata": {},
   "outputs": [],
   "source": []
  },
  {
   "cell_type": "code",
   "execution_count": 12,
   "id": "9c20298f",
   "metadata": {},
   "outputs": [
    {
     "data": {
      "text/plain": [
       "<Response [200]>"
      ]
     },
     "execution_count": 12,
     "metadata": {},
     "output_type": "execute_result"
    }
   ],
   "source": [
    "url = 'https://www.allmusic.com/genre/blues-ma0000002467/songs'\n",
    "r = requests.get(url, headers={'user-agent': 'Yayi Feng (yf7qq@virginia.edu) for Data Science at University of Virginia'})\n",
    "r"
   ]
  },
  {
   "cell_type": "code",
   "execution_count": 13,
   "id": "ee1f2264",
   "metadata": {},
   "outputs": [],
   "source": [
    "tree=html.fromstring(r.content)"
   ]
  },
  {
   "cell_type": "code",
   "execution_count": null,
   "id": "3cc67954",
   "metadata": {},
   "outputs": [],
   "source": []
  },
  {
   "cell_type": "code",
   "execution_count": 14,
   "id": "5e32eafb",
   "metadata": {},
   "outputs": [
    {
     "data": {
      "text/plain": [
       "[]"
      ]
     },
     "execution_count": 14,
     "metadata": {},
     "output_type": "execute_result"
    }
   ],
   "source": [
    "tree.xpath('//*[@id=\"cmn_wrap\"]/div[2]/div[2]/section[1]/table/tbody/tr[1]/td[1]/a[1]')"
   ]
  },
  {
   "cell_type": "code",
   "execution_count": null,
   "id": "fc88329e",
   "metadata": {},
   "outputs": [],
   "source": []
  }
 ],
 "metadata": {
  "kernelspec": {
   "display_name": "Python 3",
   "language": "python",
   "name": "python3"
  },
  "language_info": {
   "codemirror_mode": {
    "name": "ipython",
    "version": 3
   },
   "file_extension": ".py",
   "mimetype": "text/x-python",
   "name": "python",
   "nbconvert_exporter": "python",
   "pygments_lexer": "ipython3",
   "version": "3.8.8"
  }
 },
 "nbformat": 4,
 "nbformat_minor": 5
}
