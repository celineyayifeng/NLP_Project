{
 "cells": [
  {
   "cell_type": "code",
   "execution_count": 3,
   "id": "50093968",
   "metadata": {},
   "outputs": [],
   "source": [
    "import numpy as np\n",
    "import pandas as pd\n",
    "import requests\n",
    "import json\n",
    "import os\n",
    "import dotenv\n",
    "import sys\n",
    "sys.tracebacklimit = 0 # turn off the error tracebacks"
   ]
  },
  {
   "cell_type": "code",
   "execution_count": 22,
   "id": "e86313cc",
   "metadata": {},
   "outputs": [],
   "source": [
    "path = os.getcwd()+'/1.env'"
   ]
  },
  {
   "cell_type": "code",
   "execution_count": 23,
   "id": "d408acee",
   "metadata": {},
   "outputs": [],
   "source": [
    "dotenv.load_dotenv(path)\n",
    "\n",
    "ID = os.getenv('ID')\n",
    "Secret = os.getenv('Secret')\n",
    "Token = os.getenv('Token')"
   ]
  },
  {
   "cell_type": "code",
   "execution_count": 26,
   "id": "bf1f7d0c",
   "metadata": {},
   "outputs": [],
   "source": [
    "#my_dict={'q':'', 'access_token':Token}\n",
    "r = requests.get('https://api.genius.com/#top-songs')"
   ]
  },
  {
   "cell_type": "code",
   "execution_count": 1,
   "id": "7a7e9def",
   "metadata": {},
   "outputs": [],
   "source": [
    "import requests\n",
    "from lxml import html, etree\n",
    "import pandas as pd"
   ]
  },
  {
   "cell_type": "code",
   "execution_count": 2,
   "id": "3f439ed9",
   "metadata": {},
   "outputs": [
    {
     "data": {
      "text/plain": [
       "<Response [200]>"
      ]
     },
     "execution_count": 2,
     "metadata": {},
     "output_type": "execute_result"
    }
   ],
   "source": [
    "url = 'https://genius.com'\n",
    "r = requests.get(url, headers={'user-agent': 'Yayi Feng (yf7qq@virginia.edu) for Data Science at University of Virginia'})\n",
    "r"
   ]
  },
  {
   "cell_type": "code",
   "execution_count": 3,
   "id": "05946b36",
   "metadata": {},
   "outputs": [],
   "source": [
    "tree= html.fromstring(r.content)"
   ]
  },
  {
   "cell_type": "code",
   "execution_count": 4,
   "id": "d5a2f704",
   "metadata": {},
   "outputs": [],
   "source": [
    "rap_songs = []\n",
    "\n",
    "for i in range (1,11):\n",
    "    song = tree.xpath('/html/body/div/div/div[5]/div[2]/div/div[3]/a[{}]/div[2]/h3/div[1]/text()'.format(i))\n",
    "    \n",
    "    rap_songs.append(song)"
   ]
  },
  {
   "cell_type": "code",
   "execution_count": 5,
   "id": "09a89a1e",
   "metadata": {},
   "outputs": [
    {
     "data": {
      "text/plain": [
       "[['HENTAI'],\n",
       " ['\\u200b\\u200bshowdown'],\n",
       " ['Trójkąt Bermudzki'],\n",
       " ['\\u200bastral step'],\n",
       " ['Blick Blick'],\n",
       " ['5x20'],\n",
       " ['12'],\n",
       " ['What Happened To Virgil'],\n",
       " ['Starlight'],\n",
       " ['All Too Well (10 Minute Version) (Taylor’s Version) [Live Acoustic]']]"
      ]
     },
     "execution_count": 5,
     "metadata": {},
     "output_type": "execute_result"
    }
   ],
   "source": [
    "rap_songs"
   ]
  },
  {
   "cell_type": "code",
   "execution_count": 81,
   "id": "04e24c86",
   "metadata": {},
   "outputs": [
    {
     "data": {
      "text/plain": [
       "'HENTAI, showdown, Trójkąt Bermudzki, astral step, Blick Blick, 5x20, 12, What Happened To Virgil, Starlight, All Too Well (10 Minute Version) (Taylor’s Version) Live Acoustic'"
      ]
     },
     "execution_count": 81,
     "metadata": {},
     "output_type": "execute_result"
    }
   ],
   "source": [
    "str(lyric_links).replace('[','').replace(']','').replace('\\'','').replace('\\\"','').replace('\\\\u200b','')"
   ]
  },
  {
   "cell_type": "code",
   "execution_count": null,
   "id": "62e2eea4",
   "metadata": {},
   "outputs": [],
   "source": [
    "//*[@id=\"top-songs\"]/div/div[3]/a[11]/div[2]/h3/div[1]"
   ]
  },
  {
   "cell_type": "code",
   "execution_count": 49,
   "id": "e82aa7e1",
   "metadata": {},
   "outputs": [],
   "source": [
    "paths=[]\n",
    "\n",
    "for i in range(1,51):\n",
    "\n",
    "    path = tree.xpath('//*[@id=\"top-songs\"]/div/div[3]/a[11]/div[{}]'.format(i))\n",
    "    paths.append(path)"
   ]
  },
  {
   "cell_type": "code",
   "execution_count": 22,
   "id": "fe8ae1ae",
   "metadata": {},
   "outputs": [],
   "source": [
    "from bs4 import BeautifulSoup"
   ]
  },
  {
   "cell_type": "code",
   "execution_count": 21,
   "id": "da0846b4",
   "metadata": {},
   "outputs": [
    {
     "data": {
      "text/plain": [
       "<Response [200]>"
      ]
     },
     "execution_count": 21,
     "metadata": {},
     "output_type": "execute_result"
    }
   ],
   "source": [
    "url = 'https://cs.uwaterloo.ca/~dtompkin/music/list/Chart.html'\n",
    "r = requests.get(url, headers={'user-agent': 'Yayi Feng (yf7qq@virginia.edu) for Data Science at University of Virginia'})\n",
    "r"
   ]
  },
  {
   "cell_type": "code",
   "execution_count": 24,
   "id": "31203c8c",
   "metadata": {},
   "outputs": [],
   "source": [
    "tree= html.fromstring(r.content)"
   ]
  },
  {
   "cell_type": "code",
   "execution_count": 32,
   "id": "8bfce453",
   "metadata": {},
   "outputs": [],
   "source": [
    "billboard = []\n",
    "for i in range(13, 20):\n",
    "    link = tree.xpath('/html/body/table[2]/tr[{}]/td/a/@href'.format(i))\n",
    "    billboard.append(link)"
   ]
  },
  {
   "cell_type": "code",
   "execution_count": 33,
   "id": "68187476",
   "metadata": {},
   "outputs": [
    {
     "data": {
      "text/plain": [
       "[['Chart28.html'],\n",
       " ['Chart29.html'],\n",
       " ['Chart30.html'],\n",
       " ['Chart31.html'],\n",
       " ['Chart32.html'],\n",
       " ['Chart33.html'],\n",
       " ['Chart25.html']]"
      ]
     },
     "execution_count": 33,
     "metadata": {},
     "output_type": "execute_result"
    }
   ],
   "source": [
    "billboard"
   ]
  },
  {
   "cell_type": "code",
   "execution_count": 36,
   "id": "2ae60de6",
   "metadata": {},
   "outputs": [
    {
     "data": {
      "text/plain": [
       "'Chart28.html, Chart29.html, Chart30.html, Chart31.html, Chart32.html, Chart33.html, Chart25.html'"
      ]
     },
     "execution_count": 36,
     "metadata": {},
     "output_type": "execute_result"
    }
   ],
   "source": [
    "str(billboard).replace('[','').replace(']','').replace('\\'','').replace('\\\"','')"
   ]
  },
  {
   "cell_type": "code",
   "execution_count": 78,
   "id": "dccac22b",
   "metadata": {},
   "outputs": [
    {
     "data": {
      "text/plain": [
       "<Response [200]>"
      ]
     },
     "execution_count": 78,
     "metadata": {},
     "output_type": "execute_result"
    }
   ],
   "source": [
    "url = 'https://cs.uwaterloo.ca/~dtompkin/music/list/Chart33.html'\n",
    "r = requests.get(url, headers={'user-agent': 'Yayi Feng (yf7qq@virginia.edu) for Data Science at University of Virginia'})\n",
    "r"
   ]
  },
  {
   "cell_type": "code",
   "execution_count": 79,
   "id": "9d4a7132",
   "metadata": {},
   "outputs": [],
   "source": [
    "tree= html.fromstring(r.content)"
   ]
  },
  {
   "cell_type": "code",
   "execution_count": 94,
   "id": "c9e412bf",
   "metadata": {},
   "outputs": [
    {
     "data": {
      "text/plain": [
       "['Blurred Lines [Radio Edit]']"
      ]
     },
     "execution_count": 94,
     "metadata": {},
     "output_type": "execute_result"
    }
   ],
   "source": [
    "tree.xpath('/html/body/table[2]/tbody/tr[3]/td[4]//text()')"
   ]
  },
  {
   "cell_type": "code",
   "execution_count": null,
   "id": "5e9af5ad",
   "metadata": {},
   "outputs": [],
   "source": [
    "/html/body/table[2]/tbody/tr[3]/td[4]"
   ]
  },
  {
   "cell_type": "code",
   "execution_count": 97,
   "id": "5ea59fd1",
   "metadata": {},
   "outputs": [
    {
     "name": "stdout",
     "output_type": "stream",
     "text": [
      "<Response [200]>\n",
      "<Response [200]>\n",
      "<Response [200]>\n",
      "<Response [200]>\n",
      "<Response [200]>\n",
      "<Response [200]>\n"
     ]
    }
   ],
   "source": [
    "for i in range(28, 34): \n",
    "    req = 'https://cs.uwaterloo.ca/~dtompkin/music/list/Chart{}.html'.format(i)\n",
    "    response = requests.get(req)\n",
    "    print(response)\n",
    "    tree = html.fromstring(response.content)\n",
    "    \n",
    "    title_list = []\n",
    "    genre_list = []\n",
    "    \n",
    "    for i in range(2,10):\n",
    "        title = tree.xpath('/html/body/table[2]/tr[{}]/td[4]'.format(i))\n",
    "        title_list.append(title[0].text_content)\n",
    "    "
   ]
  },
  {
   "cell_type": "code",
   "execution_count": 98,
   "id": "78ecf551",
   "metadata": {},
   "outputs": [
    {
     "data": {
      "text/plain": [
       "[[], [], [], [], [], [], [], []]"
      ]
     },
     "execution_count": 98,
     "metadata": {},
     "output_type": "execute_result"
    }
   ],
   "source": [
    "title_list"
   ]
  },
  {
   "cell_type": "code",
   "execution_count": 99,
   "id": "cd2ad425",
   "metadata": {},
   "outputs": [],
   "source": [
    "billboard_url = []\n",
    "for i in range(28,34):\n",
    "    url = 'https://cs.uwaterloo.ca/~dtompkin/music/list/Chart{}.html'.format(i)\n",
    "    billboard_url.append(url)"
   ]
  },
  {
   "cell_type": "code",
   "execution_count": 106,
   "id": "a14ccd21",
   "metadata": {},
   "outputs": [
    {
     "data": {
      "text/plain": [
       "['https://cs.uwaterloo.ca/~dtompkin/music/list/Chart28.html',\n",
       " 'https://cs.uwaterloo.ca/~dtompkin/music/list/Chart29.html',\n",
       " 'https://cs.uwaterloo.ca/~dtompkin/music/list/Chart30.html',\n",
       " 'https://cs.uwaterloo.ca/~dtompkin/music/list/Chart31.html',\n",
       " 'https://cs.uwaterloo.ca/~dtompkin/music/list/Chart32.html',\n",
       " 'https://cs.uwaterloo.ca/~dtompkin/music/list/Chart33.html']"
      ]
     },
     "execution_count": 106,
     "metadata": {},
     "output_type": "execute_result"
    }
   ],
   "source": [
    "billboard_url"
   ]
  },
  {
   "cell_type": "code",
   "execution_count": 109,
   "id": "acbabfb5",
   "metadata": {},
   "outputs": [
    {
     "name": "stdout",
     "output_type": "stream",
     "text": [
      "<Response [200]>\n",
      "<Response [200]>\n",
      "<Response [200]>\n",
      "<Response [200]>\n",
      "<Response [200]>\n",
      "<Response [200]>\n"
     ]
    }
   ],
   "source": [
    "for url in billboard_url: \n",
    "    response = requests.get(url)\n",
    "    print(response)\n",
    "    tree = html.fromstring(response.content)\n",
    "    \n",
    "    title_list = []\n",
    "    genre_list = []\n",
    "    \n",
    "    for i in range(2,10):\n",
    "        title = tree.xpath('/html/body/table[2]/tbody/tr[{}]/td[4]//text()'.format(i))\n",
    "        title_list.append(title)\n",
    "        \n",
    "        genre = tree.xpath('/html/body/table[2]/tbody/tr[{}]/td[8]//text()'.format(i))\n",
    "        genre_list.append(genre)"
   ]
  },
  {
   "cell_type": "code",
   "execution_count": 110,
   "id": "94743931",
   "metadata": {},
   "outputs": [
    {
     "data": {
      "text/plain": [
       "[[\"God's Plan [Clean]\"],\n",
       " ['Perfect'],\n",
       " ['Meant To Be'],\n",
       " ['Havana [Danny Dove Radio Edit]'],\n",
       " ['Rockstar [Clean Single Edit]'],\n",
       " ['Psycho [Clean Edit]'],\n",
       " ['I Like It [Clean Edit]'],\n",
       " ['The Middle']]"
      ]
     },
     "execution_count": 110,
     "metadata": {},
     "output_type": "execute_result"
    }
   ],
   "source": [
    "title_list"
   ]
  },
  {
   "cell_type": "code",
   "execution_count": 108,
   "id": "1e5db66f",
   "metadata": {},
   "outputs": [
    {
     "data": {
      "text/plain": [
       "[['Urban'],\n",
       " ['CHR'],\n",
       " ['CHR'],\n",
       " ['Dance 2010s'],\n",
       " ['Urban'],\n",
       " ['CHR'],\n",
       " ['CHR'],\n",
       " ['CHR']]"
      ]
     },
     "execution_count": 108,
     "metadata": {},
     "output_type": "execute_result"
    }
   ],
   "source": [
    "genre_list"
   ]
  },
  {
   "cell_type": "markdown",
   "id": "15a0d0a7",
   "metadata": {},
   "source": [
    "### Scrape Wikipedia"
   ]
  },
  {
   "cell_type": "code",
   "execution_count": 113,
   "id": "6c73551d",
   "metadata": {},
   "outputs": [
    {
     "name": "stdout",
     "output_type": "stream",
     "text": [
      "<Response [200]>\n"
     ]
    }
   ],
   "source": [
    "base_url = 'https://en.wikipedia.org/wiki/Billboard_Year-End_Hot_100_singles_of_2021'\n",
    "response = requests.get(base_url)\n",
    "print(response)"
   ]
  },
  {
   "cell_type": "code",
   "execution_count": 114,
   "id": "56f41cde",
   "metadata": {},
   "outputs": [],
   "source": [
    "tree = html.fromstring(response.content)"
   ]
  },
  {
   "cell_type": "code",
   "execution_count": 124,
   "id": "79719ab7",
   "metadata": {},
   "outputs": [
    {
     "data": {
      "text/plain": [
       "['\\n', 'No.', '\\n', '\\n', 'Title\\n', '\\n', 'Artist(s)\\n']"
      ]
     },
     "execution_count": 124,
     "metadata": {},
     "output_type": "execute_result"
    }
   ],
   "source": [
    "tree.xpath('//*[@id=\"mw-content-text\"]/div[1]/table/tbody/tr[1]//text()')"
   ]
  },
  {
   "cell_type": "code",
   "execution_count": 125,
   "id": "b0b16dce",
   "metadata": {},
   "outputs": [],
   "source": [
    "import requests \n",
    "from bs4 import BeautifulSoup\n",
    "\n",
    "req = requests.get('https://en.wikipedia.org/wiki/Billboard_Year-End_Hot_100_singles_of_2021')\n",
    "page = req.text\n",
    "soup = BeautifulSoup(page, 'html.parser')\n",
    "tables_wikitable = soup.find_all('table', 'wikitable')\n",
    "rows = [row for row in tables_wikitable[0].find_all('tr')]"
   ]
  },
  {
   "cell_type": "code",
   "execution_count": 131,
   "id": "82de2400",
   "metadata": {},
   "outputs": [],
   "source": [
    "def get_td(row):\n",
    "    return [td for td in row.find_all('td')]\n",
    "def get_url(td):\n",
    "    return td[1].a['href']"
   ]
  },
  {
   "cell_type": "code",
   "execution_count": 132,
   "id": "b06d4128",
   "metadata": {},
   "outputs": [],
   "source": [
    "td_list = [get_td(row)for row in rows[1:]]"
   ]
  },
  {
   "cell_type": "markdown",
   "id": "7333ffdf",
   "metadata": {},
   "source": [
    "Get the song titles for the top 100 songs:"
   ]
  },
  {
   "cell_type": "code",
   "execution_count": 146,
   "id": "f7657833",
   "metadata": {},
   "outputs": [],
   "source": [
    "def get_title(td):\n",
    "    if td[1].a:\n",
    "        return td[1].a['title']\n",
    "    else:\n",
    "        return td[1].string"
   ]
  },
  {
   "cell_type": "code",
   "execution_count": 149,
   "id": "62cbd1c6",
   "metadata": {},
   "outputs": [],
   "source": [
    "title_list = [get_title(td) for td in td_list]"
   ]
  },
  {
   "cell_type": "markdown",
   "id": "14e5e1ba",
   "metadata": {},
   "source": [
    "Get the URLs for the top 100 songs:"
   ]
  },
  {
   "cell_type": "code",
   "execution_count": 210,
   "id": "2dc989b4",
   "metadata": {},
   "outputs": [],
   "source": [
    "base_url = 'http://en.wikipedia.org'"
   ]
  },
  {
   "cell_type": "code",
   "execution_count": 211,
   "id": "094313c6",
   "metadata": {},
   "outputs": [],
   "source": [
    "url_list = [base_url+get_url(td) for td in td_list]"
   ]
  },
  {
   "cell_type": "code",
   "execution_count": 212,
   "id": "22eb7937",
   "metadata": {},
   "outputs": [
    {
     "name": "stdout",
     "output_type": "stream",
     "text": [
      "http://en.wikipedia.org/wiki/Astronaut_in_the_Ocean\n"
     ]
    }
   ],
   "source": [
    "print(url_list.pop(19))"
   ]
  },
  {
   "cell_type": "code",
   "execution_count": 206,
   "id": "409f3c07",
   "metadata": {},
   "outputs": [],
   "source": [
    "url_list_clean"
   ]
  },
  {
   "cell_type": "markdown",
   "id": "e450a36a",
   "metadata": {},
   "source": [
    "Extract the genre/genres for each song"
   ]
  },
  {
   "cell_type": "code",
   "execution_count": 223,
   "id": "af171059",
   "metadata": {},
   "outputs": [],
   "source": [
    "response = requests.get('https://en.wikipedia.org/wiki/Go_Crazy_(Chris_Brown_and_Young_Thug_song)')\n",
    "tree=html.fromstring(response.content)\n",
    "genre = tree.xpath('//*[@id=\"mw-content-text\"]/div[1]/table[1]/tbody//text()')"
   ]
  },
  {
   "cell_type": "code",
   "execution_count": 224,
   "id": "698df674",
   "metadata": {},
   "outputs": [
    {
     "name": "stdout",
     "output_type": "stream",
     "text": [
      "['\"Go Crazy\"', 'Single', ' by ', 'Chris Brown', ' and ', 'Young Thug', 'from the album ', 'Slime & B', 'Released', 'May\\xa019,\\xa02020', '\\xa0(', '2020-05-19', ')', 'Recorded', 'April 2020', 'Studio', 'CBE (', 'Tarzana', ')', 'Genre', '\\n', 'R&B', '[1]', '\\n', 'trap', '[2]', '\\n', 'Length', '2', ':', '56', 'Label', '\\n', 'CBE', '\\n', 'RCA', '\\n', 'Songwriter(s)', 'Brown', 'Williams', 'Tre Samuels', 'Turrell Sims', 'Omololu Akinlolu', 'Said Aznou', 'Patrizio Pigliapoco', 'Orville Hall', 'Phillip Price', 'Cameron Murphy', 'Producer(s)', '\\n', 'Murphy Kid', '\\n', 'KanielTheOne', '\\n', 'Chris Brown', ' singles chronology', '\\n', '\\n\\n', '\\n', '\"Wake Up Dead\" ', '(2020)\\n', '\\n', '\"', 'Go Crazy', '\" ', '(2020)\\n', '\\n', '\"', 'Put In Work', '\" ', '(2020)\\n', 'Young Thug', ' singles chronology', '\\n', '\\n\\n', '\\n', '\"Quarantine Clean\"', '(2020)\\n', '\\n', '\"', 'Go Crazy', '\"', '(2020)\\n', '\\n', '\"Yacht Club\"', '(2020)\\n', '\\n', 'Music video', '\"Go Crazy\"', ' on ', 'YouTube', '\\n']\n"
     ]
    }
   ],
   "source": [
    "print(genre)"
   ]
  },
  {
   "cell_type": "code",
   "execution_count": 220,
   "id": "ba66b0e3",
   "metadata": {},
   "outputs": [],
   "source": [
    "def filter_genres(page):\n",
    "    genre=[]\n",
    "    for item in page:\n",
    "        try:\n",
    "            if page.index(item) > page.index('Genre') and page.index(item) < page.index('Length'):\n",
    "                genre.append(item)\n",
    "        except:\n",
    "                genre.append('none')\n",
    "    return genre"
   ]
  },
  {
   "cell_type": "code",
   "execution_count": 244,
   "id": "be9f8264",
   "metadata": {},
   "outputs": [],
   "source": [
    "clean = filter_genres(genre)"
   ]
  },
  {
   "cell_type": "code",
   "execution_count": 245,
   "id": "2aa1257d",
   "metadata": {},
   "outputs": [
    {
     "data": {
      "text/plain": [
       "['\\n',\n",
       " 'R&B',\n",
       " '[1]',\n",
       " '\\n',\n",
       " 'trap',\n",
       " '[2]',\n",
       " '\\n',\n",
       " '\\n',\n",
       " '\\n',\n",
       " '\\n',\n",
       " '\\n',\n",
       " '\\n',\n",
       " '\\n',\n",
       " '\\n',\n",
       " '\\n',\n",
       " '\\n',\n",
       " '\\n',\n",
       " '\\n',\n",
       " '\\n',\n",
       " '\\n',\n",
       " '\\n',\n",
       " '\\n',\n",
       " '\\n']"
      ]
     },
     "execution_count": 245,
     "metadata": {},
     "output_type": "execute_result"
    }
   ],
   "source": [
    "clean"
   ]
  },
  {
   "cell_type": "code",
   "execution_count": 258,
   "id": "719d8de2",
   "metadata": {},
   "outputs": [],
   "source": [
    "def clean_text(list):\n",
    "    cleaned = str(list).replace('[','').replace(']','').replace('\\'','').replace('\\\"','').strip(' \\\\n,')\n",
    "    return cleaned"
   ]
  },
  {
   "cell_type": "code",
   "execution_count": 260,
   "id": "efad97ed",
   "metadata": {},
   "outputs": [],
   "source": [
    "genre_list=[]\n",
    "\n",
    "for url in url_list: \n",
    "    response = requests.get(url)\n",
    "    tree=html.fromstring(response.content)\n",
    "    page = tree.xpath('//*[@id=\"mw-content-text\"]/div[1]/table[1]/tbody//text()')\n",
    "    genre = filter_genres(page)\n",
    "    cleaned = clean_text(genre)\n",
    "    genre_list.append(cleaned)"
   ]
  },
  {
   "cell_type": "code",
   "execution_count": 261,
   "id": "b035a2cf",
   "metadata": {},
   "outputs": [
    {
     "data": {
      "text/plain": [
       "['Electro, -, disco, nu-disco, pop-funk, space rock, 1',\n",
       " 'Synth-pop, synthwave',\n",
       " 'Synthwave, 1, synth-pop, 2, electropop, 3',\n",
       " 'Pop rap, \\\\n, rap rock',\n",
       " 'Rock, \\\\n, pop rock, \\\\n, pop-punk, \\\\n, teen pop, \\\\n, grunge, \\\\n, emo',\n",
       " 'Pop, \\\\n, bubblegum pop, \\\\n, dance-pop, \\\\n, pop rap, \\\\n, R&B',\n",
       " 'Philadelphia soul, \\\\n, R&B, \\\\n, pop',\n",
       " 'Bedroom pop, \\\\n, indie pop, \\\\n, power pop',\n",
       " 'Hip hop, electropop',\n",
       " 'Pop, \\\\n, R&B, \\\\n, pop, -, soul, \\\\n, trap',\n",
       " 'Dance-pop, disco, -, pop, EDM',\n",
       " 'Pop, \\\\n, pop rap, \\\\n, pop rock, \\\\n, pop punk, \\\\n, synth-pop, \\\\n, new wave',\n",
       " 'Psychedelic pop, pop rock, art pop, indie pop',\n",
       " 'Pop, R&B',\n",
       " 'Dance-pop, 2, 3, \\\\n, synth-pop, 4',\n",
       " 'Psychedelic pop, 1, \\\\n, R&B, 2',\n",
       " 'Emo rap, \\\\n, folk-pop',\n",
       " 'Country',\n",
       " 'R&B, 1, \\\\n, trap, 2',\n",
       " 'one, none, none, none, none, none, none, none, none, none, none, none, none, none, none, none, none, none, none, none, none, none, none, none, none, none, none, none, none, none, none, none, none, none, none, none, none, none, none, none, none, none, none, none, none, none, none, none, none, none, none, none, none, none, none, none, none, none, none, none, none, none, none, none, none, none, none, none, none, none',\n",
       " 'R&B',\n",
       " 'Pop-punk',\n",
       " 'Pop rap',\n",
       " 'Pop, \\\\n, dark pop, \\\\n, R&B, \\\\n, electropop',\n",
       " 'Hip hop, trap, 1',\n",
       " 'Country pop, \\\\n, country rap, 1',\n",
       " 'Reggaeto',\n",
       " 'Hip hop, \\\\n, pop-rap, 1',\n",
       " 'Trap, 1, 2',\n",
       " 'R&B, \\\\n, electro, \\\\n, soul',\n",
       " 'Hip hop, \\\\n, trap, \\\\n, soul',\n",
       " 'R&B',\n",
       " 'Pop rock, \\\\n, pop rap',\n",
       " 'Pop',\n",
       " 'Trap',\n",
       " 'Pop, 1',\n",
       " 'Indie pop, \\\\n, guitar-rock',\n",
       " 'one, none, none, none, none, none, none, none, none, none, none, none, none, none, none, none, none, none, none, none, none, none, none, none, none, none, none, none, none, none, none, none, none, none, none, none, none, none, none, none, none, none, none, none, none, none, none, none, none, none, none, none, none, none, none, none, none, none, none, none, none, none, none, none, none, none, none, none, none, none, none, none',\n",
       " 'Country, \\\\n, country pop',\n",
       " 'Disco, -, pop, 1',\n",
       " 'one, none, none, none, none, none, none, none, none, none, none, none, none, none, none, none, none, none, none, none, none, none, none, none, none, none, none, none, none, none, none, none, none, none, none, none, none, none, none, none, none, none, none, none, none, none, none, none, none, none, none, none, none, none, none, none, none, none, none, none, none, none, none, none, none, none',\n",
       " 'R&B, 1, 2',\n",
       " 'one, none, none, none, none, none, none, none, none, none, none, none, none, none, none, none, none, none, none, none, none, none, none, none, none, none, none, none, none, none, none, none, none, none, none, none, none, none, none, none, none, none, none, none, none, none, none',\n",
       " 'Trap',\n",
       " 'Trap, \\\\n, R&B',\n",
       " 'Trap',\n",
       " 'Comedy rap, 1, trap, 2',\n",
       " 'one, none, none, none, none, none, none, none, none, none, none, none, none, none, none, none, none, none, none, none, none, none, none, none, none, none, none, none, none, none, none, none, none, none, none, none, none, none, none, none, none, none, none, none, none, none, none, none, none, none, none, none, none, none, none, none, none, none, none, none, none, none, none, none, none',\n",
       " 'Drill',\n",
       " 'Pop-rap, trap, 1',\n",
       " 'Alternative R&B, \\\\n, neo-soul, 1, \\\\n, psychedelic soul',\n",
       " 'Country',\n",
       " 'Hip hop, dirty rap',\n",
       " 'Chamber folk',\n",
       " 'Pop',\n",
       " 'Country',\n",
       " 'R&B',\n",
       " 'Trap',\n",
       " 'Afrobeats, \\\\n, R&B',\n",
       " 'Country',\n",
       " 'Country',\n",
       " 'Pop',\n",
       " 'Country pop',\n",
       " 'one, none, none, none, none, none, none, none, none, none, none, none, none, none, none, none, none, none, none, none, none, none, none, none, none, none, none, none, none, none, none, none, none, none, none, none, none, none, none, none, none, none, none, none, none, none, none, none, none, none, none, none, none, none, none, none, none, none, none, none, none, none, none, none, none, none, none, none, none, none, none, none, none, none, none, none, none, none, none, none, none, none, none',\n",
       " 'Northern soul, 1',\n",
       " 'R&B',\n",
       " 'Trap',\n",
       " 'Country rock, 1',\n",
       " 'Hip hop, \\\\n, country rap',\n",
       " 'Dirty rap',\n",
       " 'one, none, none, none, none, none, none, none, none, none, none, none, none, none, none, none, none, none, none, none, none, none, none, none, none, none, none, none, none, none, none, none, none, none, none, none, none, none, none, none, none, none, none, none, none, none, none, none, none, none, none, none, none',\n",
       " 'Power pop',\n",
       " 'Synth-pop',\n",
       " 'one, none, none, none, none, none, none, none, none, none, none, none, none, none, none, none, none, none, none, none, none, none, none, none, none, none, none, none, none, none, none',\n",
       " 'one, none, none, none, none, none, none, none, none, none, none, none, none, none, none, none, none, none, none, none, none, none, none, none, none, none, none, none, none, none, none, none, none, none, none, none, none, none, none, none, none, none, none, none, none, none, none, none, none, none, none, none, none, none',\n",
       " 'one, none, none, none, none, none, none, none, none, none, none, none, none, none, none, none, none, none, none, none, none, none, none, none, none, none, none, none, none, none, none, none, none, none, none, none, none, none, none, none, none, none, none, none, none, none, none, none, none, none, none, none, none, none, none, none, none, none, none, none, none, none, none, none, none, none, none, none, none, none, none, none, none, none, none, none',\n",
       " 'Christmas, pop',\n",
       " 'Mumble rap, \\\\n, R&B',\n",
       " 'Country pop, \\\\n, Country rock',\n",
       " 'Country pop, 1',\n",
       " 'Pop',\n",
       " 'Reggaeto',\n",
       " 'Country hip hop, 1',\n",
       " 'Country rock, 1',\n",
       " 'Trap, 1',\n",
       " 'R&B',\n",
       " 'Country, 1',\n",
       " 'Disco, \\\\n, dance-pop, \\\\n, funk, \\\\n, synthwave',\n",
       " 'Tropical-pop',\n",
       " 'Country',\n",
       " 'Rockabilly, 2, \\\\n, Christmas, 2',\n",
       " 'Folk pop, \\\\n, R&B',\n",
       " 'Rock, \\\\n, soul, \\\\n, pop punk',\n",
       " 'Country pop',\n",
       " 'Country',\n",
       " 'Dirty rap, \\\\n, R&B',\n",
       " 'one, none, none, none, none, none, none, none, none, none, none, none, none, none, none, none, none, none, none, none, none, none, none, none, none, none, none, none, none, none, none, none, none, none, none, none, none, none, none, none, none, none, none, none, none, none, none, none, none, none, none, none, none, none',\n",
       " 'Country',\n",
       " 'Dance, \\\\n, synth-pop']"
      ]
     },
     "execution_count": 261,
     "metadata": {},
     "output_type": "execute_result"
    }
   ],
   "source": [
    "genre_list"
   ]
  },
  {
   "cell_type": "code",
   "execution_count": null,
   "id": "63077b24",
   "metadata": {},
   "outputs": [],
   "source": []
  }
 ],
 "metadata": {
  "kernelspec": {
   "display_name": "Python 3",
   "language": "python",
   "name": "python3"
  },
  "language_info": {
   "codemirror_mode": {
    "name": "ipython",
    "version": 3
   },
   "file_extension": ".py",
   "mimetype": "text/x-python",
   "name": "python",
   "nbconvert_exporter": "python",
   "pygments_lexer": "ipython3",
   "version": "3.8.8"
  }
 },
 "nbformat": 4,
 "nbformat_minor": 5
}
